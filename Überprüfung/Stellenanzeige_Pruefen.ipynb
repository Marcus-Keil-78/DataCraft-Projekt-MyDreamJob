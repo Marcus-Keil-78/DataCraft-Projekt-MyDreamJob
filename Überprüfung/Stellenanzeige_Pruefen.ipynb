{
 "cells": [
  {
   "cell_type": "code",
   "execution_count": null,
   "metadata": {},
   "outputs": [],
   "source": [
    "#                                                                         # Version Python 3.11.1\n",
    "import pandas as pd                                                       # Version 2.0.1\n",
    "from sqlalchemy import create_engine, text                                # Version 2.0.13\n",
    "from selenium import webdriver                                            # Version 4.9.1\n",
    "from selenium.webdriver.chrome.service import Service as ChromeService    # Version 4.9.1\n",
    "from webdriver_manager.chrome import ChromeDriverManager                  # Version 3.8.6\n",
    "from selenium.webdriver.common.by import By                               # Version 4.9.1\n",
    "import time\n",
    "import random\n",
    "import datetime\n",
    "print(\"fertig\")"
   ]
  },
  {
   "cell_type": "code",
   "execution_count": null,
   "metadata": {},
   "outputs": [],
   "source": [
    "## SQL-Server Verbindung erstellen\n",
    "# Angaben zum SQL-Server\n",
    "host=\"\"\n",
    "database=\"\"\n",
    "user=\"\"\n",
    "password=\"\"\n",
    "\n",
    "# Erstelle eine SQL-Verbindung mit der Datenbank\n",
    "connection = create_engine(f'postgresql+psycopg2://{user}:{password}@{host}/{database}')\n",
    "print(\"fertig\")"
   ]
  },
  {
   "cell_type": "code",
   "execution_count": null,
   "metadata": {},
   "outputs": [],
   "source": [
    "# Daten aus Rohdaten-Tabelle laden\n",
    "daten_aus_sql = pd.read_sql_query(f\"SELECT seite, url FROM jobs.aktuell\", connection)\n",
    "print(\"fertig\")"
   ]
  },
  {
   "cell_type": "code",
   "execution_count": null,
   "metadata": {},
   "outputs": [],
   "source": [
    "# die eingelesenen Daten aufteilen nach den Stellenbörsen\n",
    "daten_stepstone=daten_aus_sql[daten_aus_sql[\"seite\"] == 'stepstone'].reset_index().drop(columns='index')\n",
    "daten_indeed=daten_aus_sql[daten_aus_sql[\"seite\"] == 'indeed'].reset_index().drop(columns='index')\n",
    "daten_monster=daten_aus_sql[daten_aus_sql[\"seite\"] == 'monster'].reset_index().drop(columns='index')\n",
    "daten_linkedin=daten_aus_sql[daten_aus_sql[\"seite\"] == 'linkedin'].reset_index().drop(columns='index')"
   ]
  },
  {
   "cell_type": "code",
   "execution_count": null,
   "metadata": {},
   "outputs": [],
   "source": [
    "# Öffnen des Browser´s\n",
    "chrome_options = webdriver.ChromeOptions()\n",
    "#Headless-Modus aktivieren\n",
    "#chrome_options.add_argument(\"--headless\")\n",
    "driver = webdriver.Chrome(service=ChromeService(ChromeDriverManager().install()), options=chrome_options)\n",
    "time.sleep(1)\n",
    "driver.maximize_window()\n",
    "print(\"Browser geöffnet\")"
   ]
  },
  {
   "cell_type": "code",
   "execution_count": null,
   "metadata": {},
   "outputs": [],
   "source": [
    "# Liste für die URL´s wo die Stellenazeigen icht mehr aktuell sind\n",
    "seite_liste=[]\n",
    "nicht_mehr_existierende_stellenanzeigen=[]\n",
    "Grund_liste=[]\n",
    "Datum_liste=[]\n",
    "print(\"fertig\")"
   ]
  },
  {
   "cell_type": "code",
   "execution_count": null,
   "metadata": {},
   "outputs": [],
   "source": [
    "# suche nicht mehr vorhandenen Stellenanzeigen in \"stepstone\"\n",
    "print(f'Stepstone hat {len(daten_stepstone)} Datensätze. Start: {datetime.datetime.now().strftime(\"%H:%M:%S\")}')\n",
    "for url in daten_stepstone.url:\n",
    "    # Webseite aufrufen\n",
    "    try:\n",
    "        driver.get(url)\n",
    "    except:\n",
    "        pass\n",
    "    \n",
    "    ## Überprüfen der Seite nach verschiedene Kritereien\n",
    "    # Kriterium: Es wird angezeigt, das die Stellenanzeige nicht mehr existiert\n",
    "    try:\n",
    "        if driver.find_element(By.CLASS_NAME, 'listing-content-provider-1qtvd67').text == 'Diese Stellenanzeige ist nicht mehr verfügbar.':\n",
    "            seite_liste.append('stepstone')\n",
    "            nicht_mehr_existierende_stellenanzeigen.append(url)\n",
    "            Grund_liste.append('Stellenanzeige nicht verfügbar')\n",
    "            Datum_liste.append(datetime.datetime.now())\n",
    "    except:\n",
    "        pass\n",
    "    \n",
    "    # Krieterium: Server Error 404\n",
    "    try:\n",
    "        if driver.find_element(By.CLASS_NAME, 'err-kxw8ad').text == 'Server error 404':\n",
    "            seite_liste.append('stepstone')\n",
    "            nicht_mehr_existierende_stellenanzeigen.append(url)\n",
    "            Grund_liste.append('Server error 404')\n",
    "            Datum_liste.append(datetime.datetime.now())\n",
    "    except:\n",
    "        pass\n",
    "    \n",
    "    # Wartezeit zum Aufbau der neuen Seite\n",
    "    time.sleep(1)\n",
    "print(\"fertig\")"
   ]
  },
  {
   "cell_type": "code",
   "execution_count": null,
   "metadata": {},
   "outputs": [],
   "source": [
    "# suche nicht mehr vorhandenen Stellenanzeigen in \"indeed\"\n",
    "print(f'Indeed hat {len(daten_indeed)} Datensätze. Start: {datetime.datetime.now().strftime(\"%H:%M:%S\")}')\n",
    "for url in daten_indeed.url:\n",
    "    # Webseite aufrufen\n",
    "    try:\n",
    "        driver.get(url)\n",
    "    except:\n",
    "        pass\n",
    "        \n",
    "    ## Überprüfen der Seite nach verschiedene Kritereien\n",
    "    # Kriterium: Es wird angezeigt, das die Stellenanzeige nicht mehr existiert\n",
    "    try:\n",
    "        if driver.find_element(By.CLASS_NAME, 'css-jsuk8h').text == 'Diese Stellenanzeige ist auf Indeed abgelaufen':\n",
    "            seite_liste.append('indeed')\n",
    "            nicht_mehr_existierende_stellenanzeigen.append(url)\n",
    "            Grund_liste.append('Stellenanzeige nicht verfügbar')\n",
    "            Datum_liste.append(datetime.datetime.now())\n",
    "    except:\n",
    "        pass\n",
    "    # Wartezeit zum Aufbau der neuen Seite\n",
    "    time.sleep(random.randint(3,10))\n",
    "print(\"fertig\")"
   ]
  },
  {
   "cell_type": "code",
   "execution_count": null,
   "metadata": {},
   "outputs": [],
   "source": [
    "# suche nicht mehr vorhandenen Stellenanzeigen in \"monster\"\n",
    "print(f'Monster hat {len(daten_monster)} Datensätze. Start: {datetime.datetime.now().strftime(\"%H:%M:%S\")}')\n",
    "for url in daten_monster.url:\n",
    "    # Webseite aufrufen\n",
    "    try:\n",
    "        driver.get(url)\n",
    "        time.sleep(random.random(1,2))\n",
    "        \n",
    "        # \"Webseite ist nicht erreichbar\" wird angezeigt\n",
    "        try:\n",
    "            driver.find_element(By.XPATH, '//*[@id=\"reload-button\"]').click() # auf Button \"neu laden\" klicken\n",
    "        except:\n",
    "            pass\n",
    "    except:\n",
    "        pass\n",
    "        \n",
    "    ## Überprüfen der Seite nach verschiedene Kritereien\n",
    "    # Kriterium: Es wird angezeigt, das die Stellenanzeige nicht mehr existiert\n",
    "    try:\n",
    "        if driver.find_element(By.CLASS_NAME, 'message-containerstyles__MessageTitle-sc-j0jexe-6').text == 'Oh, oh! Diese Stellenausschreibung ist abgelaufen.':\n",
    "            seite_liste.append('monster')\n",
    "            nicht_mehr_existierende_stellenanzeigen.append(url)\n",
    "            Grund_liste.append('Stellenanzeige nicht verfügbar')\n",
    "            Datum_liste.append(datetime.datetime.now())\n",
    "    except:\n",
    "        pass\n",
    "    # Wartezeit zum Aufbau der neuen Seite\n",
    "    time.sleep(random.randint(3,10))\n",
    "print(\"fertig\")"
   ]
  },
  {
   "cell_type": "code",
   "execution_count": null,
   "metadata": {},
   "outputs": [],
   "source": [
    "# suche nicht mehr vorhandenen Stellenanzeigen in \"linkedin\"\n",
    "print(f'LinkedIn hat {len(daten_linkedin)} Datensätze. Start: {datetime.datetime.now().strftime(\"%H:%M:%S\")}')\n",
    "for url in daten_linkedin.url:\n",
    "    # Webseite aufrufen\n",
    "    try:\n",
    "        driver.get(url)\n",
    "    except:\n",
    "        pass\n",
    "        \n",
    "    ## Überprüfen der Seite nach verschiedene Kritereien\n",
    "    #Kriterium: Es wird angezeigt, das die Stellenanzeige nicht mehr existiert\n",
    "    try:\n",
    "        if driver.find_element(By.CLASS_NAME, 'inline-notification__text').text == 'Dieses Jobangebot ist nicht mehr verfügbar. Aber vielleicht ist eine dieser ähnlichen Stellen für Sie interessant.':\n",
    "            seite_liste.append('linkedin')\n",
    "            nicht_mehr_existierende_stellenanzeigen.append(url)\n",
    "            Grund_liste.append('Stellenanzeige nicht verfügbar')\n",
    "            Datum_liste.append(datetime.datetime.now())\n",
    "    except:\n",
    "        pass\n",
    "    \n",
    "    # Kriterium: Anmeldemaske -> wird ignoriert da evtl. als BOT erkannt\n",
    "    try:\n",
    "        if driver.find_element(By.CLASS_NAME, 'authwall-join-form__title').text == 'Mitglied werden':\n",
    "            pass\n",
    "    except:\n",
    "        pass\n",
    "    # Wartezeit zum Aufbau der neuen Seite\n",
    "    time.sleep(random.randint(3,10))\n",
    "print(\"fertig\")"
   ]
  },
  {
   "cell_type": "code",
   "execution_count": null,
   "metadata": {},
   "outputs": [],
   "source": [
    "# Browser schließen\n",
    "driver.close()\n",
    "print('Browser geschlossen')"
   ]
  },
  {
   "cell_type": "code",
   "execution_count": null,
   "metadata": {},
   "outputs": [],
   "source": [
    "# DataFrame erzeugen\n",
    "try:\n",
    "    df=pd.DataFrame({\"seite\": seite_liste,\n",
    "                    \"url\": nicht_mehr_existierende_stellenanzeigen,\n",
    "                    \"grund\": Grund_liste,\n",
    "                    \"datum\": Datum_liste   \n",
    "    })\n",
    "\n",
    "    display(df)\n",
    "except ValueError as e:\n",
    "    print(f\"Dataframe konnte nicht erstellt werden\\n{e}\")"
   ]
  },
  {
   "cell_type": "code",
   "execution_count": null,
   "metadata": {},
   "outputs": [],
   "source": [
    "df.grund.value_counts()"
   ]
  },
  {
   "cell_type": "code",
   "execution_count": null,
   "metadata": {},
   "outputs": [],
   "source": [
    "# Rohdatenbank aktualisieren\n",
    "print(f'Aktuallisiere Datenbank: - Zeit: {datetime.datetime.now().strftime(\"%H:%M:%S\")}')\n",
    "with connection.connect() as SQL_verbindung:\n",
    "    for url in df.url:\n",
    "        sql_befehl=text(f\"UPDATE jobs.rohdaten SET storno = true WHERE url = :url;\")\n",
    "        SQL_verbindung.execute(sql_befehl.bindparams(url=url))\n",
    "    SQL_verbindung.commit()\n",
    "print(f'Aktuallisierung beendet: - Zeit: {datetime.datetime.now().strftime(\"%H:%M:%S\")}')\n",
    "\n",
    "# DataFrame in Datenbank speichern\n",
    "print(f'Trage Daten in die LOG-Tabelle der Datenbank ein: - Zeit: {datetime.datetime.now().strftime(\"%H:%M:%S\")}')\n",
    "try:\n",
    "    df.to_sql(name='log_storno', schema='jobs',\n",
    "            con=connection, if_exists='append', index=False, )\n",
    "    print(f'Eintragung beendet: - Zeit: {datetime.datetime.now().strftime(\"%H:%M:%S\")}')\n",
    "except NameError as e:\n",
    "    print(f\"Kein DataFrame vorhanden\\n{e}\")"
   ]
  }
 ],
 "metadata": {
  "kernelspec": {
   "display_name": "Python 3",
   "language": "python",
   "name": "python3"
  },
  "language_info": {
   "codemirror_mode": {
    "name": "ipython",
    "version": 3
   },
   "file_extension": ".py",
   "mimetype": "text/x-python",
   "name": "python",
   "nbconvert_exporter": "python",
   "pygments_lexer": "ipython3",
   "version": "3.11.1"
  },
  "orig_nbformat": 4
 },
 "nbformat": 4,
 "nbformat_minor": 2
}
